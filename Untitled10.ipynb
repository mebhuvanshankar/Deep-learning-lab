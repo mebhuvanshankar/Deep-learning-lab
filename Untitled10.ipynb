{
  "nbformat": 4,
  "nbformat_minor": 0,
  "metadata": {
    "colab": {
      "provenance": [],
      "authorship_tag": "ABX9TyNDEQAiTrISFOtvM9N0DPr1",
      "include_colab_link": true
    },
    "kernelspec": {
      "name": "python3",
      "display_name": "Python 3"
    },
    "language_info": {
      "name": "python"
    }
  },
  "cells": [
    {
      "cell_type": "markdown",
      "metadata": {
        "id": "view-in-github",
        "colab_type": "text"
      },
      "source": [
        "<a href=\"https://colab.research.google.com/github/mebhuvanshankar/Deep-learning-lab/blob/main/Untitled10.ipynb\" target=\"_parent\"><img src=\"https://colab.research.google.com/assets/colab-badge.svg\" alt=\"Open In Colab\"/></a>"
      ]
    },
    {
      "cell_type": "code",
      "execution_count": 1,
      "metadata": {
        "colab": {
          "base_uri": "https://localhost:8080/"
        },
        "id": "o7fmW0zozkVR",
        "outputId": "6260fed8-24bc-4efb-c9cf-5a0fea376d5b"
      },
      "outputs": [
        {
          "output_type": "stream",
          "name": "stdout",
          "text": [
            "Sentiment: Positive\n",
            "Sentiment: Negative\n",
            "Sentiment: Positive\n"
          ]
        },
        {
          "output_type": "stream",
          "name": "stderr",
          "text": [
            "[nltk_data] Downloading package vader_lexicon to /root/nltk_data...\n"
          ]
        }
      ],
      "source": [
        "import nltk\n",
        "from nltk.sentiment.vader import SentimentIntensityAnalyzer\n",
        "\n",
        "# Download the VADER lexicon (if not already downloaded)\n",
        "nltk.download('vader_lexicon')\n",
        "\n",
        "# Create a SentimentIntensityAnalyzer object\n",
        "analyzer = SentimentIntensityAnalyzer()\n",
        "\n",
        "def analyze_sentiment(text):\n",
        "    sentiment = analyzer.polarity_scores(text)\n",
        "    if sentiment['compound'] >= 0.05:\n",
        "        return \"Positive\"\n",
        "    elif sentiment['compound'] <= -0.05:\n",
        "        return \"Negative\"\n",
        "    else:\n",
        "        return \"Neutral\"\n",
        "\n",
        "# Example usage:\n",
        "text = \"I love this product. It's amazing!\"\n",
        "result = analyze_sentiment(text)\n",
        "print(f\"Sentiment: {result}\")\n",
        "\n",
        "text = \"I hate waiting in long lines. It's so frustrating.\"\n",
        "result = analyze_sentiment(text)\n",
        "print(f\"Sentiment: {result}\")\n",
        "\n",
        "text = \"This is an interesting book.\"\n",
        "result = analyze_sentiment(text)\n",
        "print(f\"Sentiment: {result}\")\n"
      ]
    }
  ]
}